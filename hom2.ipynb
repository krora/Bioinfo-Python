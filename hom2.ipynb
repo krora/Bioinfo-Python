{
 "cells": [
  {
   "cell_type": "code",
   "execution_count": null,
   "metadata": {
    "collapsed": true
   },
   "outputs": [],
   "source": []
  },
  {
   "cell_type": "markdown",
   "metadata": {},
   "source": [
    "## Problem 1"
   ]
  },
  {
   "cell_type": "code",
   "execution_count": 2,
   "metadata": {
    "collapsed": true
   },
   "outputs": [],
   "source": [
    "def getMultiset(X):\n",
    "    L=X[1:] # append the first row of matrix\n",
    "    for i in range(1,len(X)):\n",
    "        el=X[i]\n",
    "        row = [x-el for x in X] #the next row\n",
    "        for r in row:\n",
    "            if (int(r)>0):\n",
    "                L.append(r) #append the next row\n",
    "                  \n",
    "    return sorted(L)"
   ]
  },
  {
   "cell_type": "code",
   "execution_count": 3,
   "metadata": {},
   "outputs": [
    {
     "name": "stdout",
     "output_type": "stream",
     "text": [
      "[2, 2, 3, 3, 4, 5, 6, 7, 8, 10]\n"
     ]
    }
   ],
   "source": [
    "X=[0, 2, 4, 7, 10]\n",
    "DX=getMultiset(X)\n",
    "print(DX)"
   ]
  },
  {
   "cell_type": "markdown",
   "metadata": {},
   "source": [
    "## Problem 2"
   ]
  },
  {
   "cell_type": "code",
   "execution_count": 4,
   "metadata": {
    "collapsed": true
   },
   "outputs": [],
   "source": [
    "def getMultiset(X):\n",
    "    L=X[1:] # append the first row of matrix\n",
    "    for i in range(1,len(X)):\n",
    "        el=X[i]\n",
    "        row = [x-el for x in X] #the next row\n",
    "        for r in row:\n",
    "            if (int(r)>0):\n",
    "                L.append(r) #append the next row\n",
    "                  \n",
    "    return sorted(L) "
   ]
  },
  {
   "cell_type": "code",
   "execution_count": 5,
   "metadata": {
    "collapsed": true
   },
   "outputs": [],
   "source": [
    "from itertools import combinations, chain\n",
    "\n",
    "#generate all sebsets from range(1,n)\n",
    "allsubsets = lambda n: list(chain(*[combinations(range(1,n), ni) for ni in range(n+1)]))\n",
    "\n",
    "\n",
    "def getSet(L):\n",
    "    #findmaximum in L\n",
    "    M=max(L)\n",
    "    all=[]\n",
    "   \n",
    "    #get all sebsets without empty from range(1,M)\n",
    "    sets=allsubsets(M)[1:]\n",
    "    \n",
    "    #for each set \n",
    "    for p in sets:\n",
    "        #generate posible X\n",
    "        X=[0]+list(p)+[M]\n",
    "        \n",
    "        #if X is correct\n",
    "        if getMultiset(X)==L:\n",
    "            all.append(X)\n",
    "    if(all==[]):\n",
    "        return \"No Solution\"\n",
    "    return all"
   ]
  },
  {
   "cell_type": "code",
   "execution_count": 8,
   "metadata": {},
   "outputs": [
    {
     "name": "stdout",
     "output_type": "stream",
     "text": [
      "[[0, 3, 4, 5, 6, 9, 15], [0, 6, 9, 10, 11, 12, 15]]\n"
     ]
    }
   ],
   "source": [
    "L=  [1,1,1,2,2,3,3,3,4,4,5,5,6,6,6,9,9,10,11,12,15]  \n",
    "X=getSet(L)\n",
    "print(X)"
   ]
  },
  {
   "cell_type": "markdown",
   "metadata": {},
   "source": [
    "## Problem 3\n"
   ]
  },
  {
   "cell_type": "markdown",
   "metadata": {},
   "source": [
    "#### I am not sure how to explain this problem properly. As question defines that we have to prove, but not sure what ways we can prove it.\n",
    "u is a element U\n",
    "v is a elemtent in V\n",
    "therefore \n",
    "set of u added to the integers v\n",
    "We can see that u+v is shift of elements by adding v\n",
    "where as U-v\n",
    "is a reflection of V. it change the order of V integers and performd the same pdp\n",
    "As the element are trival\n",
    "If i implement Set U and V in my second part it qwill give me some nontrival solution\n",
    "if we multiply a constant  with V\n",
    "U+6v = u + 6times v\n",
    "whereas \n",
    "U-6v=  U - 6times V which is - V reflection or reverse order"
   ]
  },
  {
   "cell_type": "markdown",
   "metadata": {},
   "source": [
    "## Problem 4"
   ]
  },
  {
   "cell_type": "markdown",
   "metadata": {},
   "source": [
    "\n",
    "an array size{}\n",
    "eliminate largest element L and insert i the A. if the lement fits in  bound ,find other length and eliminates the valuse of delta X.\n",
    "Alpha - array1 alpha -array2 .... and so onfor all possible elements in array\n",
    "\n",
    "#### PartialDigest(X)\n",
    "#### If X is null\n",
    "####    print (\"\", array)\n",
    "#### return\n",
    "#### If  alpha is max in X\n",
    "#### Delete (alpha,X)\n",
    "#### If alpha and array is element in X\n",
    "####    Add alpha to array and remove lengths(Alpha, array) \n",
    "####    from X\n",
    "####    for X in array:\n",
    "####        (apha.append(X)+array )- length(alpha)\n",
    "        \n",
    "####        for x in array;\n",
    "####           all.append(X) + length(alpha. array) == L\n",
    "####            return\n",
    "   reference Partial Digest Algorithim\n",
    "3. output X\n",
    "4. return\n",
    "5. y← maximum element in L\n",
    "6. Delete(y,L)\n",
    "7. if D(y, X ) ∈ L\n",
    "8. Add y to X and remove lengths D(y, X) from L\n",
    "9. PLACE(L,X )\n",
    "10. Remove y from X and add lengths D(y, X) to L\n",
    "11. if D(width-y, X ) ∈ L\n",
    "12. Add width-y to X and remove lengths D(width-y, X) from L\n",
    "13. PLACE(L,X )\n",
    "14. Remove width-y from X and add lengths D(width-y, X ) to L\n",
    "15. return"
   ]
  },
  {
   "cell_type": "markdown",
   "metadata": {},
   "source": [
    "## Problem 5"
   ]
  },
  {
   "cell_type": "markdown",
   "metadata": {},
   "source": [
    "#### Using Brute force \n",
    "\n",
    "#### if (string(L) =letter)\n",
    "#### s=letter (T)\n",
    "#### else \n",
    "#### letter[:-1]\n",
    "####for r in row:\n",
    "####    if (pattern  = string)              \n",
    "####   return L \n",
    "\n",
    "#### O(s^(s-T)) \n",
    "#### T length of the string searching\n",
    "#### and s is length of the string use to search \n",
    "\n",
    "    "
   ]
  },
  {
   "cell_type": "markdown",
   "metadata": {},
   "source": [
    "## Problem 6"
   ]
  },
  {
   "cell_type": "markdown",
   "metadata": {},
   "source": [
    "\n",
    "### Diffrences\n",
    "\n",
    "#### best PossibleScore ← Score(s, i) + (t − i) · l\n",
    "#### if best PossibleScore > bestScore\n",
    "####   Yet another basically calculates the best score and compare with largest or highest.\n",
    "#### if currentSeq 6= t\n",
    "#### s ← FIND(s, currentSeq + 1, t, n, l) comparison and if not move to highest next  element and compare if  yes its the best score\n",
    "#### Branch and bound is faster then brute force, yetAnother==>branch, anothermotif==>brute force\n",
    "### Similar\n",
    "####  returning the bestMotif , can be implemented a sample if implanted sample with implanted pattern that requires exponential time \n",
    "#### to find, recursive function, and checks the possible combination, basically you can increase the sizes"
   ]
  },
  {
   "cell_type": "markdown",
   "metadata": {},
   "source": [
    "## Problem 7\n",
    "karanarora"
   ]
  },
  {
   "cell_type": "code",
   "execution_count": 5,
   "metadata": {},
   "outputs": [
    {
     "ename": "SyntaxError",
     "evalue": "invalid syntax (<ipython-input-5-2e2954fe4d07>, line 1)",
     "output_type": "error",
     "traceback": [
      "\u001b[1;36m  File \u001b[1;32m\"<ipython-input-5-2e2954fe4d07>\"\u001b[1;36m, line \u001b[1;32m1\u001b[0m\n\u001b[1;33m    ipython nbconvert hom2.ipynb\u001b[0m\n\u001b[1;37m                    ^\u001b[0m\n\u001b[1;31mSyntaxError\u001b[0m\u001b[1;31m:\u001b[0m invalid syntax\n"
     ]
    }
   ],
   "source": [
    "ipython nbconvert hom2.ipynb"
   ]
  },
  {
   "cell_type": "code",
   "execution_count": null,
   "metadata": {
    "collapsed": true
   },
   "outputs": [],
   "source": []
  },
  {
   "cell_type": "code",
   "execution_count": null,
   "metadata": {
    "collapsed": true
   },
   "outputs": [],
   "source": []
  }
 ],
 "metadata": {
  "kernelspec": {
   "display_name": "Python 3",
   "language": "python",
   "name": "python3"
  },
  "language_info": {
   "codemirror_mode": {
    "name": "ipython",
    "version": 3
   },
   "file_extension": ".py",
   "mimetype": "text/x-python",
   "name": "python",
   "nbconvert_exporter": "python",
   "pygments_lexer": "ipython3",
   "version": "3.6.3"
  }
 },
 "nbformat": 4,
 "nbformat_minor": 2
}
